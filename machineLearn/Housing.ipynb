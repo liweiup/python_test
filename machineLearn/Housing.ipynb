{
 "cells": [
  {
   "cell_type": "code",
   "execution_count": 61,
   "id": "29d521d3",
   "metadata": {},
   "outputs": [
    {
     "data": {
      "text/plain": "    longitude  latitude  housing_median_age  total_rooms  total_bedrooms  \\\n0     -122.23     37.88                41.0        880.0           129.0   \n1     -122.22     37.86                21.0       7099.0          1106.0   \n2     -122.24     37.85                52.0       1467.0           190.0   \n3     -122.25     37.85                52.0       1274.0           235.0   \n4     -122.25     37.85                52.0       1627.0           280.0   \n5     -122.25     37.85                52.0        919.0           213.0   \n6     -122.25     37.84                52.0       2535.0           489.0   \n7     -122.25     37.84                52.0       3104.0           687.0   \n8     -122.26     37.84                42.0       2555.0           665.0   \n9     -122.25     37.84                52.0       3549.0           707.0   \n10    -122.26     37.85                52.0       2202.0           434.0   \n11    -122.26     37.85                52.0       3503.0           752.0   \n12    -122.26     37.85                52.0       2491.0           474.0   \n13    -122.26     37.84                52.0        696.0           191.0   \n14    -122.26     37.85                52.0       2643.0           626.0   \n15    -122.26     37.85                50.0       1120.0           283.0   \n16    -122.27     37.85                52.0       1966.0           347.0   \n17    -122.27     37.85                52.0       1228.0           293.0   \n18    -122.26     37.84                50.0       2239.0           455.0   \n19    -122.27     37.84                52.0       1503.0           298.0   \n\n    population  households  median_income  median_house_value ocean_proximity  \n0        322.0       126.0         8.3252            452600.0        NEAR BAY  \n1       2401.0      1138.0         8.3014            358500.0        NEAR BAY  \n2        496.0       177.0         7.2574            352100.0        NEAR BAY  \n3        558.0       219.0         5.6431            341300.0        NEAR BAY  \n4        565.0       259.0         3.8462            342200.0        NEAR BAY  \n5        413.0       193.0         4.0368            269700.0        NEAR BAY  \n6       1094.0       514.0         3.6591            299200.0        NEAR BAY  \n7       1157.0       647.0         3.1200            241400.0        NEAR BAY  \n8       1206.0       595.0         2.0804            226700.0        NEAR BAY  \n9       1551.0       714.0         3.6912            261100.0        NEAR BAY  \n10       910.0       402.0         3.2031            281500.0        NEAR BAY  \n11      1504.0       734.0         3.2705            241800.0        NEAR BAY  \n12      1098.0       468.0         3.0750            213500.0        NEAR BAY  \n13       345.0       174.0         2.6736            191300.0        NEAR BAY  \n14      1212.0       620.0         1.9167            159200.0        NEAR BAY  \n15       697.0       264.0         2.1250            140000.0        NEAR BAY  \n16       793.0       331.0         2.7750            152500.0        NEAR BAY  \n17       648.0       303.0         2.1202            155500.0        NEAR BAY  \n18       990.0       419.0         1.9911            158700.0        NEAR BAY  \n19       690.0       275.0         2.6033            162900.0        NEAR BAY  ",
      "text/html": "<div>\n<style scoped>\n    .dataframe tbody tr th:only-of-type {\n        vertical-align: middle;\n    }\n\n    .dataframe tbody tr th {\n        vertical-align: top;\n    }\n\n    .dataframe thead th {\n        text-align: right;\n    }\n</style>\n<table border=\"1\" class=\"dataframe\">\n  <thead>\n    <tr style=\"text-align: right;\">\n      <th></th>\n      <th>longitude</th>\n      <th>latitude</th>\n      <th>housing_median_age</th>\n      <th>total_rooms</th>\n      <th>total_bedrooms</th>\n      <th>population</th>\n      <th>households</th>\n      <th>median_income</th>\n      <th>median_house_value</th>\n      <th>ocean_proximity</th>\n    </tr>\n  </thead>\n  <tbody>\n    <tr>\n      <th>0</th>\n      <td>-122.23</td>\n      <td>37.88</td>\n      <td>41.0</td>\n      <td>880.0</td>\n      <td>129.0</td>\n      <td>322.0</td>\n      <td>126.0</td>\n      <td>8.3252</td>\n      <td>452600.0</td>\n      <td>NEAR BAY</td>\n    </tr>\n    <tr>\n      <th>1</th>\n      <td>-122.22</td>\n      <td>37.86</td>\n      <td>21.0</td>\n      <td>7099.0</td>\n      <td>1106.0</td>\n      <td>2401.0</td>\n      <td>1138.0</td>\n      <td>8.3014</td>\n      <td>358500.0</td>\n      <td>NEAR BAY</td>\n    </tr>\n    <tr>\n      <th>2</th>\n      <td>-122.24</td>\n      <td>37.85</td>\n      <td>52.0</td>\n      <td>1467.0</td>\n      <td>190.0</td>\n      <td>496.0</td>\n      <td>177.0</td>\n      <td>7.2574</td>\n      <td>352100.0</td>\n      <td>NEAR BAY</td>\n    </tr>\n    <tr>\n      <th>3</th>\n      <td>-122.25</td>\n      <td>37.85</td>\n      <td>52.0</td>\n      <td>1274.0</td>\n      <td>235.0</td>\n      <td>558.0</td>\n      <td>219.0</td>\n      <td>5.6431</td>\n      <td>341300.0</td>\n      <td>NEAR BAY</td>\n    </tr>\n    <tr>\n      <th>4</th>\n      <td>-122.25</td>\n      <td>37.85</td>\n      <td>52.0</td>\n      <td>1627.0</td>\n      <td>280.0</td>\n      <td>565.0</td>\n      <td>259.0</td>\n      <td>3.8462</td>\n      <td>342200.0</td>\n      <td>NEAR BAY</td>\n    </tr>\n    <tr>\n      <th>5</th>\n      <td>-122.25</td>\n      <td>37.85</td>\n      <td>52.0</td>\n      <td>919.0</td>\n      <td>213.0</td>\n      <td>413.0</td>\n      <td>193.0</td>\n      <td>4.0368</td>\n      <td>269700.0</td>\n      <td>NEAR BAY</td>\n    </tr>\n    <tr>\n      <th>6</th>\n      <td>-122.25</td>\n      <td>37.84</td>\n      <td>52.0</td>\n      <td>2535.0</td>\n      <td>489.0</td>\n      <td>1094.0</td>\n      <td>514.0</td>\n      <td>3.6591</td>\n      <td>299200.0</td>\n      <td>NEAR BAY</td>\n    </tr>\n    <tr>\n      <th>7</th>\n      <td>-122.25</td>\n      <td>37.84</td>\n      <td>52.0</td>\n      <td>3104.0</td>\n      <td>687.0</td>\n      <td>1157.0</td>\n      <td>647.0</td>\n      <td>3.1200</td>\n      <td>241400.0</td>\n      <td>NEAR BAY</td>\n    </tr>\n    <tr>\n      <th>8</th>\n      <td>-122.26</td>\n      <td>37.84</td>\n      <td>42.0</td>\n      <td>2555.0</td>\n      <td>665.0</td>\n      <td>1206.0</td>\n      <td>595.0</td>\n      <td>2.0804</td>\n      <td>226700.0</td>\n      <td>NEAR BAY</td>\n    </tr>\n    <tr>\n      <th>9</th>\n      <td>-122.25</td>\n      <td>37.84</td>\n      <td>52.0</td>\n      <td>3549.0</td>\n      <td>707.0</td>\n      <td>1551.0</td>\n      <td>714.0</td>\n      <td>3.6912</td>\n      <td>261100.0</td>\n      <td>NEAR BAY</td>\n    </tr>\n    <tr>\n      <th>10</th>\n      <td>-122.26</td>\n      <td>37.85</td>\n      <td>52.0</td>\n      <td>2202.0</td>\n      <td>434.0</td>\n      <td>910.0</td>\n      <td>402.0</td>\n      <td>3.2031</td>\n      <td>281500.0</td>\n      <td>NEAR BAY</td>\n    </tr>\n    <tr>\n      <th>11</th>\n      <td>-122.26</td>\n      <td>37.85</td>\n      <td>52.0</td>\n      <td>3503.0</td>\n      <td>752.0</td>\n      <td>1504.0</td>\n      <td>734.0</td>\n      <td>3.2705</td>\n      <td>241800.0</td>\n      <td>NEAR BAY</td>\n    </tr>\n    <tr>\n      <th>12</th>\n      <td>-122.26</td>\n      <td>37.85</td>\n      <td>52.0</td>\n      <td>2491.0</td>\n      <td>474.0</td>\n      <td>1098.0</td>\n      <td>468.0</td>\n      <td>3.0750</td>\n      <td>213500.0</td>\n      <td>NEAR BAY</td>\n    </tr>\n    <tr>\n      <th>13</th>\n      <td>-122.26</td>\n      <td>37.84</td>\n      <td>52.0</td>\n      <td>696.0</td>\n      <td>191.0</td>\n      <td>345.0</td>\n      <td>174.0</td>\n      <td>2.6736</td>\n      <td>191300.0</td>\n      <td>NEAR BAY</td>\n    </tr>\n    <tr>\n      <th>14</th>\n      <td>-122.26</td>\n      <td>37.85</td>\n      <td>52.0</td>\n      <td>2643.0</td>\n      <td>626.0</td>\n      <td>1212.0</td>\n      <td>620.0</td>\n      <td>1.9167</td>\n      <td>159200.0</td>\n      <td>NEAR BAY</td>\n    </tr>\n    <tr>\n      <th>15</th>\n      <td>-122.26</td>\n      <td>37.85</td>\n      <td>50.0</td>\n      <td>1120.0</td>\n      <td>283.0</td>\n      <td>697.0</td>\n      <td>264.0</td>\n      <td>2.1250</td>\n      <td>140000.0</td>\n      <td>NEAR BAY</td>\n    </tr>\n    <tr>\n      <th>16</th>\n      <td>-122.27</td>\n      <td>37.85</td>\n      <td>52.0</td>\n      <td>1966.0</td>\n      <td>347.0</td>\n      <td>793.0</td>\n      <td>331.0</td>\n      <td>2.7750</td>\n      <td>152500.0</td>\n      <td>NEAR BAY</td>\n    </tr>\n    <tr>\n      <th>17</th>\n      <td>-122.27</td>\n      <td>37.85</td>\n      <td>52.0</td>\n      <td>1228.0</td>\n      <td>293.0</td>\n      <td>648.0</td>\n      <td>303.0</td>\n      <td>2.1202</td>\n      <td>155500.0</td>\n      <td>NEAR BAY</td>\n    </tr>\n    <tr>\n      <th>18</th>\n      <td>-122.26</td>\n      <td>37.84</td>\n      <td>50.0</td>\n      <td>2239.0</td>\n      <td>455.0</td>\n      <td>990.0</td>\n      <td>419.0</td>\n      <td>1.9911</td>\n      <td>158700.0</td>\n      <td>NEAR BAY</td>\n    </tr>\n    <tr>\n      <th>19</th>\n      <td>-122.27</td>\n      <td>37.84</td>\n      <td>52.0</td>\n      <td>1503.0</td>\n      <td>298.0</td>\n      <td>690.0</td>\n      <td>275.0</td>\n      <td>2.6033</td>\n      <td>162900.0</td>\n      <td>NEAR BAY</td>\n    </tr>\n  </tbody>\n</table>\n</div>"
     },
     "execution_count": 61,
     "metadata": {},
     "output_type": "execute_result"
    }
   ],
   "source": [
    "import os\n",
    "import tarfile\n",
    "import pandas as pd\n",
    "from six.moves import urllib\n",
    "\n",
    "DOWNLOAD_ROOT = \"https://raw.githubusercontent.com/ageron/handson-ml/master/\"\n",
    "HOUSING_PATH = \"datasets/housing\"\n",
    "HOUSING_URL = DOWNLOAD_ROOT + HOUSING_PATH + \"/housing.tgz\"\n",
    "\n",
    "def fetch_housing_data(housing_url=HOUSING_URL, housing_path=HOUSING_PATH):\n",
    "\n",
    "    if not os.path.isdir(housing_path):\n",
    "        os.makedirs(housing_path)\n",
    "    tgz_path = os.path.join(housing_path, \"housing.tgz\")\n",
    "    print(os.path.isdir(housing_path))\n",
    "    print(housing_url)\n",
    "    print(urllib.request.getproxies())\n",
    "    # urllib.request.urlretrieve(housing_url, tgz_path)\n",
    "#     housing_tgz = tarfile.open(tgz_path)\n",
    "#     housing_tgz.extractall(path=housing_path)\n",
    "#     housing_tgz.close()\n",
    "\n",
    "def load_housing_data(housing_path=HOUSING_PATH):\n",
    "    csv_path = os.path.join(housing_path, \"housing.csv\")\n",
    "    return pd.read_csv(csv_path)\n",
    "housing = load_housing_data()\n",
    "housing.head(20)"
   ]
  },
  {
   "cell_type": "code",
   "execution_count": 61,
   "id": "b72608a4",
   "metadata": {},
   "outputs": [],
   "source": []
  },
  {
   "cell_type": "code",
   "execution_count": 62,
   "id": "b44d4c2d",
   "metadata": {},
   "outputs": [
    {
     "name": "stdout",
     "output_type": "stream",
     "text": [
      "True\n",
      "https://raw.githubusercontent.com/ageron/handson-ml/master/datasets/housing/housing.tgz\n",
      "{'https': 'http://127.0.0.1:7792'}\n"
     ]
    }
   ],
   "source": [
    "import os\n",
    "import tarfile\n",
    "from six.moves import urllib\n",
    "\n",
    "DOWNLOAD_ROOT = \"https://raw.githubusercontent.com/ageron/handson-ml/master/\"\n",
    "HOUSING_PATH = \"datasets/housing\"\n",
    "HOUSING_URL = DOWNLOAD_ROOT + HOUSING_PATH + \"/housing.tgz\"\n",
    "\n",
    "def fetch_housing_data(housing_url=HOUSING_URL, housing_path=HOUSING_PATH):\n",
    "\n",
    "    if not os.path.isdir(housing_path):\n",
    "        os.makedirs(housing_path)\n",
    "    tgz_path = os.path.join(housing_path, \"housing.tgz\")\n",
    "    print(os.path.isdir(housing_path))\n",
    "    print(housing_url)\n",
    "    print(urllib.request.getproxies())\n",
    "    # urllib.request.urlretrieve(housing_url, tgz_path)\n",
    "#     housing_tgz = tarfile.open(tgz_path)\n",
    "#     housing_tgz.extractall(path=housing_path)\n",
    "#     housing_tgz.close()\n",
    "fetch_housing_data()"
   ]
  },
  {
   "cell_type": "code",
   "execution_count": 63,
   "id": "f61c9fa3",
   "metadata": {},
   "outputs": [
    {
     "name": "stdout",
     "output_type": "stream",
     "text": [
      "True\n",
      "https://raw.githubusercontent.com/ageron/handson-ml/master/datasets/housing/housing.tgz\n",
      "{'https': 'http://127.0.0.1:7792'}\n"
     ]
    }
   ],
   "source": [
    "import os\n",
    "import tarfile\n",
    "from six.moves import urllib\n",
    "\n",
    "DOWNLOAD_ROOT = \"https://raw.githubusercontent.com/ageron/handson-ml/master/\"\n",
    "HOUSING_PATH = \"datasets/housing\"\n",
    "HOUSING_URL = DOWNLOAD_ROOT + HOUSING_PATH + \"/housing.tgz\"\n",
    "\n",
    "def fetch_housing_data(housing_url=HOUSING_URL, housing_path=HOUSING_PATH):\n",
    "    if not os.path.isdir(housing_path):\n",
    "        os.makedirs(housing_path)\n",
    "    tgz_path = os.path.join(housing_path, \"housing.tgz\")\n",
    "    os.environ[\"HTTPS_PROXY\"] = \"http://127.0.0.1:7792\"\n",
    "    print(os.path.isdir(housing_path))\n",
    "    print(housing_url)\n",
    "    print(urllib.request.getproxies())\n",
    "    urllib.request.urlretrieve(housing_url, tgz_path)\n",
    "    housing_tgz = tarfile.open(tgz_path)\n",
    "    housing_tgz.extractall(path=housing_path)\n",
    "    housing_tgz.close()\n",
    "fetch_housing_data()"
   ]
  },
  {
   "cell_type": "code",
   "execution_count": 64,
   "id": "0cbbd8bd",
   "metadata": {
    "pycharm": {
     "name": "#%%\n"
    }
   },
   "outputs": [
    {
     "name": "stdout",
     "output_type": "stream",
     "text": [
      "       longitude  latitude  housing_median_age  total_rooms  total_bedrooms  \\\n",
      "14196    -117.03     32.71                33.0       3126.0           627.0   \n",
      "8267     -118.16     33.77                49.0       3382.0           787.0   \n",
      "17445    -120.48     34.66                 4.0       1897.0           331.0   \n",
      "14265    -117.11     32.69                36.0       1421.0           367.0   \n",
      "2271     -119.80     36.78                43.0       2382.0           431.0   \n",
      "...          ...       ...                 ...          ...             ...   \n",
      "11284    -117.96     33.78                35.0       1330.0           201.0   \n",
      "11964    -117.43     34.02                33.0       3084.0           570.0   \n",
      "5390     -118.38     34.03                36.0       2101.0           569.0   \n",
      "860      -121.96     37.58                15.0       3575.0           597.0   \n",
      "15795    -122.42     37.77                52.0       4226.0          1315.0   \n",
      "\n",
      "       population  households  median_income  median_house_value  \\\n",
      "14196      2300.0       623.0         3.2596            103000.0   \n",
      "8267       1314.0       756.0         3.8125            382100.0   \n",
      "17445       915.0       336.0         4.1563            172600.0   \n",
      "14265      1418.0       355.0         1.9425             93400.0   \n",
      "2271        874.0       380.0         3.5542             96500.0   \n",
      "...           ...         ...            ...                 ...   \n",
      "11284       658.0       217.0         6.3700            229200.0   \n",
      "11964      1753.0       449.0         3.0500             97800.0   \n",
      "5390       1756.0       527.0         2.9344            222100.0   \n",
      "860        1777.0       559.0         5.7192            283500.0   \n",
      "15795      2619.0      1242.0         2.5755            325000.0   \n",
      "\n",
      "      ocean_proximity  \n",
      "14196      NEAR OCEAN  \n",
      "8267       NEAR OCEAN  \n",
      "17445      NEAR OCEAN  \n",
      "14265      NEAR OCEAN  \n",
      "2271           INLAND  \n",
      "...               ...  \n",
      "11284       <1H OCEAN  \n",
      "11964          INLAND  \n",
      "5390        <1H OCEAN  \n",
      "860         <1H OCEAN  \n",
      "15795        NEAR BAY  \n",
      "\n",
      "[16512 rows x 10 columns]\n",
      "       longitude  latitude  housing_median_age  total_rooms  total_bedrooms  \\\n",
      "20046    -119.01     36.06                25.0       1505.0             NaN   \n",
      "3024     -119.46     35.14                30.0       2943.0             NaN   \n",
      "15663    -122.44     37.80                52.0       3830.0             NaN   \n",
      "20484    -118.72     34.28                17.0       3051.0             NaN   \n",
      "9814     -121.93     36.62                34.0       2351.0             NaN   \n",
      "...          ...       ...                 ...          ...             ...   \n",
      "15362    -117.22     33.36                16.0       3165.0           482.0   \n",
      "16623    -120.83     35.36                28.0       4323.0           886.0   \n",
      "18086    -122.05     37.31                25.0       4111.0           538.0   \n",
      "2144     -119.76     36.77                36.0       2507.0           466.0   \n",
      "3665     -118.37     34.22                17.0       1787.0           463.0   \n",
      "\n",
      "       population  households  median_income  median_house_value  \\\n",
      "20046      1392.0       359.0         1.6812             47700.0   \n",
      "3024       1565.0       584.0         2.5313             45800.0   \n",
      "15663      1310.0       963.0         3.4801            500001.0   \n",
      "20484      1705.0       495.0         5.7376            218600.0   \n",
      "9814       1063.0       428.0         3.7250            278000.0   \n",
      "...           ...         ...            ...                 ...   \n",
      "15362      1351.0       452.0         4.6050            263300.0   \n",
      "16623      1650.0       705.0         2.7266            266800.0   \n",
      "18086      1585.0       568.0         9.2298            500001.0   \n",
      "2144       1227.0       474.0         2.7850             72300.0   \n",
      "3665       1671.0       448.0         3.5521            151500.0   \n",
      "\n",
      "      ocean_proximity  \n",
      "20046          INLAND  \n",
      "3024           INLAND  \n",
      "15663        NEAR BAY  \n",
      "20484       <1H OCEAN  \n",
      "9814       NEAR OCEAN  \n",
      "...               ...  \n",
      "15362       <1H OCEAN  \n",
      "16623      NEAR OCEAN  \n",
      "18086       <1H OCEAN  \n",
      "2144           INLAND  \n",
      "3665        <1H OCEAN  \n",
      "\n",
      "[4128 rows x 10 columns]\n"
     ]
    }
   ],
   "source": [
    "import numpy as np\n",
    "import hashlib\n",
    "\n",
    "def split_train_test(data, test_ratio):\n",
    "    shuffled_indices = np.random.permutation(len(data))\n",
    "    test_set_size = int(len(data) * test_ratio)\n",
    "    test_indices = shuffled_indices[:test_set_size]\n",
    "    train_indices = shuffled_indices[test_set_size:]\n",
    "    return data.iloc[train_indices], data.iloc[test_indices]\n",
    "\n",
    "def test_set_check(identifier, test_ratio, hash):\n",
    "    return hash(np.int64(identifier)).digest()[-1] < 256 * test_ratio\n",
    "\n",
    "def split_train_test_by_id(data, test_ratio, id_column, hash=hashlib.md5):\n",
    "    ids = data[id_column]\n",
    "    in_test_set = ids.apply(lambda id_: test_set_check(id_, test_ratio, hash))\n",
    "    return data.loc[~in_test_set], data.loc[in_test_set]\n",
    "\n",
    "housing_with_id = housing.reset_index()   # adds an `index` column\n",
    "train_set, test_set = split_train_test_by_id(housing_with_id, 0.2, \"index\")\n",
    "\n",
    "\n",
    "from sklearn.model_selection import train_test_split\n",
    "\n",
    "train_set, test_set = train_test_split(housing, test_size=0.2, random_state=42)\n",
    "print(train_set)\n",
    "print(test_set)"
   ]
  }
 ],
 "metadata": {
  "kernelspec": {
   "display_name": "Python 3 (ipykernel)",
   "language": "python",
   "name": "python3"
  },
  "language_info": {
   "codemirror_mode": {
    "name": "ipython",
    "version": 3
   },
   "file_extension": ".py",
   "mimetype": "text/x-python",
   "name": "python",
   "nbconvert_exporter": "python",
   "pygments_lexer": "ipython3",
   "version": "3.7.12"
  }
 },
 "nbformat": 4,
 "nbformat_minor": 5
}